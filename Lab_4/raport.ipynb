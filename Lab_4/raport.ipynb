{
 "cells": [
  {
   "cell_type": "markdown",
   "metadata": {},
   "source": [
    "# <center>Laboratorium Analiza i bazy danych </center>\n",
    "\n",
    "## <center>Łączenie tabel, podzapytania i funkcje agregujące</center>"
   ]
  },
  {
   "cell_type": "markdown",
   "metadata": {},
   "source": [
    "## Przykładowe tabele obrazujące łączenie\n",
    "\n",
    "Do zobrazowania operacji łączenia zostaną użyte tabele:\n",
    "\n",
    "```sql\n",
    "CREATE TABLE shape_a (\n",
    "    id INT PRIMARY KEY,\n",
    "    shape VARCHAR (100) NOT NULL\n",
    ");\n",
    " \n",
    "CREATE TABLE shape_b (\n",
    "    id INT PRIMARY KEY,\n",
    "    shape VARCHAR (100) NOT NULL\n",
    ");\n",
    "```\n",
    " \n",
    "Polecenie CREATE TABLE tworzy tabelę o zadanej nazwie i strukturze. Ogólna postać to:\n",
    "```sql\n",
    "CREATE TABLE tab_name (\n",
    "    col_name1 data_type constrain,\n",
    "    col_name1 data_type constrain,\n",
    "    ...\n",
    ");\n",
    "```\n",
    "Należy uzupełnić ją danymi:\n",
    "```sql\n",
    "INSERT INTO shape_a (id, shape)\n",
    "VALUES\n",
    "    (1, 'Trójkąt'),\n",
    "    (2, 'Kwadrat'),\n",
    "    (3, 'Deltoid'),\n",
    "    (4, 'Traper');\n",
    " \n",
    "INSERT INTO shape_b (id, shape)\n",
    "VALUES\n",
    "    (1, 'Kwadrat'),\n",
    "    (2, 'Trójkąt'),\n",
    "    (3, 'Romb'),\n",
    "    (4, 'Równoległobok');\n",
    "```\n",
    "Komenda INSERT INTO pozwala na dodanie do tabeli rekordów. Ogólna postać to:\n",
    "\n",
    "```sql\n",
    "INSERT INTO tab_name (col1_name, col2_name2, ...) \n",
    "VALUES\n",
    "    (val1_col1, val2_col2),\n",
    "    (val2_col1, val2_col2),\n",
    "    ...\n",
    "```"
   ]
  },
  {
   "cell_type": "markdown",
   "metadata": {},
   "source": [
    "## Inner join \n",
    "\n",
    "Jest to podstawowy rodzaj złączenie. Ten sposób złączenia wybiera  te wiersze, dla których warunek złączenia jest spełniony. W żadnej z łączonych tabel kolumna użyta do łączenia nie może mieć wartości NULL. \n",
    "\n",
    "#### Przykład:\n",
    "```sql\n",
    "SELECT\n",
    "    a.id id_a,\n",
    "    a.shape shape_a,\n",
    "    b.id id_b,\n",
    "    b.shape shape_b\n",
    "FROM\n",
    "    shape_a a\n",
    "INNER JOIN shape_b b ON a.shape = b.shape;\n",
    "```\n",
    "W zapytaniu powyżej użyto *aliasów* nazw tabel i column wynikowych, jest to szczególnie przydatne przy długich nazwach tabel i wprowadza czytelność w zapytaniu.\n",
    "\n",
    "#### Wynik:\n",
    "|id_a|shape_a|id_b|shape_b|\n",
    "|-|-|-|-|\n",
    "|1|Trójkąt|2|Trójkąt|\n",
    "|2|Kwadrat|1|Kwadrat|"
   ]
  },
  {
   "cell_type": "markdown",
   "metadata": {},
   "source": [
    "## OUTER JOIN\n",
    "\n",
    "Istnieją trzy rodzaje złączeń OUTER:\n",
    "- LEFT OUTER JOIN,\n",
    "- RIGHT OUTER JOIN,\n",
    "- FULL OUTER JOIN.\n",
    "\n",
    "### LEFT OUTER JOIN\n",
    "\n",
    "Ten rodzaj złączenie zwróci wszystkie rekordy z lewej tablicy i dopasuje do nich rekordy z prawej tablicy które spełniją zadany warunek złączenia. Jeżeli w prawej tablicy nie występują rekordy spełnijące warunek złączenia z lewą w ich miejscu pojawią się wartości NULL.\n",
    "\n",
    "#### Przykład 1:\n",
    "```sql\n",
    "SELECT\n",
    "    a.id id_a,\n",
    "    a.shape shape_a,\n",
    "    b.id id_b,\n",
    "    b.shape shape_b\n",
    "FROM\n",
    "    shape_a a\n",
    "LEFT JOIN shape_b b ON a.shape = b.shape;\n",
    "```\n",
    "#### Wynik:\n",
    "|id_a|shape_a|id_b|shape_b|\n",
    "|-|-|-|-|\n",
    "|1|Trójkąt|2|Trójkąt|\n",
    "|2|Kwadrat|1|Kwadrat|\n",
    "|3|Deltoid|NULL|NULL|\n",
    "|4|Traper|NULL|NULL|\n",
    "\n",
    "#### Przykład 2:\n",
    "```sql\n",
    "SELECT\n",
    "    b.id id_b,\n",
    "    b.shape shape_b,\n",
    "    a.id id_a,\n",
    "    a.shape shape_a   \n",
    "FROM\n",
    "    shape_b b\n",
    "LEFT JOIN shape_a a ON a.shape = b.shape;\n",
    "```\n",
    "#### Wynik:\n",
    "|id_a|shape_a|id_b|shape_b|\n",
    "|-|-|-|-|\n",
    "|1|Kwadrat|2|Kwadrat|\n",
    "|2|Trójkąt|1|Trójkąt|\n",
    "|3|Romb|NULL|NULL|\n",
    "|4|Równoległobok|NULL|NULL|\n",
    "\n",
    "### RIGHT OUTER JOIN\n",
    "\n",
    "Działa jak left outer join z tym, że prawa tablica w zapytaniu jest brana w całości.\n",
    "\n",
    "#### Przykład:\n",
    "```sql\n",
    "SELECT\n",
    "    a.id id_a,\n",
    "    a.shape shape_a,\n",
    "    b.id id_b,\n",
    "    b.shape shape_b\n",
    "FROM\n",
    "    shape_a a\n",
    "RIGHT JOIN shape_b b ON a.shape = b.shape;\n",
    "```\n",
    "\n",
    "#### Wynik:\n",
    "|id_a|shape_a|id_b|shape_b|\n",
    "|-|-|-|-|\n",
    "|2|Kwadrat|1|Kwadrat|\n",
    "|1|Trójkąt|2|Trójkąt|\n",
    "|NULL|NULL|3|Romb|\n",
    "|NULL|NULL|4|Równoległobok|\n",
    "\n",
    "\n",
    "### FULL OUTER JOIN\n",
    "\n",
    "Jest złączeniem które zwraca:\n",
    "- wiersze dla których warunek złączenia jest spełniony,\n",
    "- wiersze z lewej tabeli dla których nie ma odpowiedników w prawej,\n",
    "- wiersze z prawej tabeli dla których nie ma odpowiedników w lewej. \n",
    "\n",
    "#### Przykład:\n",
    "```sql\n",
    "SELECT\n",
    "    a.id id_a,\n",
    "    a.shape shape_a,\n",
    "    b.id id_b,\n",
    "    b.shape shape_b\n",
    "FROM\n",
    "    shape_a a\n",
    "FULL JOIN shape_b b ON a.shape = b.shape;\n",
    "```\n",
    "|id_a|shape_a|id_b|shape_b|\n",
    "|-|-|-|-|\n",
    "|1|Trójkąt|2|Trójkąt|\n",
    "|2|Kwadrat|1|Kwadrat|\n",
    "|3|Deltoid\"|NULL|NULL|\n",
    "|4|Traper|NULL|NULL|\n",
    "|NULL|NULL|3|Romb|\n",
    "|NULL|NULL|4|Równoległobok|"
   ]
  },
  {
   "cell_type": "markdown",
   "metadata": {},
   "source": [
    "## Podzapytania\n",
    "\n",
    "Podzapytanie zagnieżdżone SELECT znajduje się wewnątrz zewnętrznego zapytania SELECT, np. po klauzuli WHERE, HAVING lub FROM. W przypadku tego rodzaju zapytań w pierwszej kolejności wykonywane są wewnętrzne zapytania SELECT, a ich wynik jest wykorzystywany do zewnętrznego zapytania SELECT. Stąd łatwo zuważyć, że mogą one służyć do poprawy wydajności obsługi zapytania. Należy dobierać podzapytania tak by najbardziej zagnieżdżone podzapytanie zawierało najmniejszy zbiór poszukiwań. \n",
    "\n",
    "#### Przykład:\n",
    "Jeżeli chcemy znaleźć w bazie informację o tytułach filmów zwróconych w zadanym okresie możemy wykonać następujące zapytanie:\n",
    "```sql\n",
    "SELECT\n",
    "   film_id,\n",
    "   title\n",
    "FROM\n",
    "   film\n",
    "WHERE\n",
    "   film_id IN (\n",
    "      SELECT\n",
    "         inventory.film_id\n",
    "      FROM\n",
    "         rental\n",
    "      INNER JOIN inventory ON inventory.inventory_id = rental.inventory_id\n",
    "      WHERE\n",
    "         return_date BETWEEN '2005-05-29'\n",
    "      AND '2005-05-30'\n",
    "   );\n",
    "```\n",
    "\n",
    "#### Wynik\n",
    "|film_id|title|\n",
    "|-|-|\n",
    "|307|Fellowship Autumn|\n",
    "|255|Driving Polish|\n",
    "|388|Gunfight Moon|\n",
    "|130|Celebrity Horn|\n",
    "|563|Massacre Usual|\n",
    "|397|Hanky October|\n",
    "|...|...|\n",
    "\n",
    "### Używanie podzapytań\n",
    "\n",
    "Pod zapytania mogą być używane w :\n",
    "- SELECT,\n",
    "- UPDATE,\n",
    "- DELETE,\n",
    "- Funkcjach agregujących,\n",
    "- Do definiowania tabel tymczasowych.\n",
    "\n",
    "Używając podzapytań zapytania SQL szybko mogą stać się mało czytelne. Przez co będą trudne w zrozumieniu i późniejszym utrzymaniu. W celu analizy zapytań można użyć klauzuli __EXPLAIN__, która przeanalizuje zapytanie. Klauzula ta może służyć również do porównywania wydajności zapytań\n",
    "\n",
    "#### Przykład:\n",
    "```sql\n",
    "EXPLAIN SELECT\n",
    "   *\n",
    "FROM\n",
    "   film\n",
    "```"
   ]
  },
  {
   "cell_type": "markdown",
   "metadata": {},
   "source": [
    "## Funkcje agregujące\n",
    "\n",
    "Funkcje agregujące wykonują obliczenia na zestawie wierszy i zwracają pojedynczy wiersz. PostgreSQL udostępnia wszystkie standardowe funkcje agregujące SQL w następujący sposób:\n",
    "- AVG () - zwraca średnią wartość.\n",
    "- COUNT () - zwraca liczbę wartości.\n",
    "- MAX () - zwraca maksymalną wartość.\n",
    "- MIN () - zwraca minimalną wartość.\n",
    "- SUM () - zwraca sumę wszystkich lub różnych wartości.\n",
    "\n",
    "Pełna lista funkcji agregującej: https://www.postgresql.org/docs/9.5/functions-aggregate.html\n",
    "\n",
    "Często używamy funkcji agregujących z klauzulą GROUP BY w instrukcji SELECT. W tych przypadkach klauzula GROUP BY dzieli zestaw wyników na grupy wierszy i funkcja agregująca wykonuje obliczenia dla każdej grupy, np. maksimum, minimum, średnia itp. Funkcji agregujących można używać funkcji agregujących jako wyrażeń tylko w następujących klauzulach: SELECT i HAVING.\n",
    "\n",
    "### GROUP BY\n",
    "Klauzula GROUP BY dzieli wiersze zwrócone z instrukcji SELECT na grupy. Dla  każdej grupy można zastosować funkcję agregującą, np. SUM aby obliczyć sumę pozycji lub\n",
    "COUNT aby uzyskać liczbę elementów w grupach.\n",
    "\n",
    "Poniższa instrukcja ilustruje składnię klauzuli GROUP BY:\n",
    "```sql\n",
    "SELECT \n",
    "    column_1, \n",
    "    aggregate_function(column_2)\n",
    "FROM \n",
    "    tbl_name\n",
    "GROUP BY \n",
    "    column_1;\n",
    "```\n",
    "Klauzula GROUP BY musi pojawić się zaraz po klauzuli FROM lub WHERE, n0astępnie GROUP BY zawiera listę  kolumna oddzielonych przecinkami. \n",
    "\n",
    "### HAVING\n",
    "Często używamy klauzuli HAVING w połączeniu z klauzulą GROUP BY do filtrowania wierszy grup\n",
    "które nie spełniają określonego warunku.\n",
    "\n",
    "Poniższa instrukcja ilustruje typową składnię klauzuli HAVING:\n",
    "```sql\n",
    "SELECT\n",
    "    column_1,\n",
    "    aggregate_function (column_2)\n",
    "FROM\n",
    "    tbl_name\n",
    "GROUP BY\n",
    "    column_1\n",
    "HAVING\n",
    "    condition;\n",
    "```\n",
    "Klauzula HAVING ustawia warunek dla wierszy grup utworzonych przez klauzulę GROUP BY.  \n",
    "\n",
    "Klauzula GROUP BY ma zastosowanie, podczas gdy klauzula WHERE określa wcześniej warunki dla poszczególnych wierszy."
   ]
  },
  {
   "cell_type": "markdown",
   "metadata": {},
   "source": [
    "## Zadania wprowadzające\n",
    "Wykonaj zapytania przy użyciu DBMS:  \n",
    "  \n",
    "1. Znajdź listę wszystkich filmów o tej samej długości.\n",
    "2. Znajdź wszystkich klientów mieszkających w tym samym mieście.\n",
    "3. Oblicz średni koszt wypożyczenia wszystkich filmów.\n",
    "4. Oblicz i wyświetl liczbę filmów we wszystkich kategoriach.\n",
    "5. Wyświetl liczbę wszystkich klientów pogrupowanych według kraju.\n",
    "6. Wyświetl informacje o sklepie, który ma więcej niż 100 klientów i mniej niż 300 klientów.\n",
    "7. Wybierz wszystkich klientów, którzy oglądali filmy ponad 200 godzin.\n",
    "8. Oblicz średnią wartość wypożyczenia filmu.\n",
    "9. Oblicz średnią wartość długości filmu we wszystkich kategoriach.\n",
    "10. Znajdź najdłuższe tytuły filmowe we wszystkich kategoriach.\n",
    "11. Znajdź najdłuższy film we wszystkich kategoriach. Porównaj wynik z pkt 10."
   ]
  },
  {
   "cell_type": "code",
   "execution_count": 1,
   "metadata": {},
   "outputs": [],
   "source": [
    "import numpy as np\n",
    "import pickle\n",
    "\n",
    "import psycopg2 as pg\n",
    "import pandas.io.sql as psql\n",
    "import pandas as pd\n",
    "\n",
    "from typing import Union, List, Tuple\n",
    "\n",
    "connection = pg.connect(host='pgsql-196447.vipserv.org', port=5432, dbname='wbauer_adb', user='wbauer_adb', password='adb2020');"
   ]
  },
  {
   "cell_type": "code",
   "execution_count": 2,
   "metadata": {},
   "outputs": [
    {
     "name": "stdout",
     "output_type": "stream",
     "text": [
      "      film_id           film_title  film_length  film2_id  \\\n",
      "0         730  Ridgemont Submarine           46       469   \n",
      "1         730  Ridgemont Submarine           46        15   \n",
      "2         730  Ridgemont Submarine           46       504   \n",
      "3         730  Ridgemont Submarine           46       505   \n",
      "4         469            Iron Moon           46       730   \n",
      "...       ...                  ...          ...       ...   \n",
      "6967      182       Control Anthem          185       690   \n",
      "6968      182       Control Anthem          185       212   \n",
      "6969      182       Control Anthem          185       872   \n",
      "6970      182       Control Anthem          185       817   \n",
      "6971      182       Control Anthem          185       991   \n",
      "\n",
      "              film2_title  film2_length  \n",
      "0               Iron Moon            46  \n",
      "1            Alien Center            46  \n",
      "2           Kwai Homeward            46  \n",
      "3        Labyrinth League            46  \n",
      "4     Ridgemont Submarine            46  \n",
      "...                   ...           ...  \n",
      "6967         Pond Seattle           185  \n",
      "6968       Darn Forrester           185  \n",
      "6969    Sweet Brotherhood           185  \n",
      "6970   Soldiers Evolution           185  \n",
      "6971         Worst Banger           185  \n",
      "\n",
      "[6972 rows x 6 columns]\n"
     ]
    }
   ],
   "source": [
    "# 1. Znajdź listę wszystkich filmów o tej samej długości.\n",
    "\n",
    "ex1 = pd.read_sql('SELECT f.film_id film_id, \\\n",
    "f.title film_title, \\\n",
    "f.length film_length, \\\n",
    "f2.film_id film2_id, \\\n",
    "f2.title film2_title, \\\n",
    "f2.length film2_length \\\n",
    "FROM film f \\\n",
    "INNER JOIN film f2 ON f.length=f2.length \\\n",
    "WHERE f.title != f2.title',con=connection)\n",
    "print(ex1)"
   ]
  },
  {
   "cell_type": "code",
   "execution_count": 3,
   "metadata": {},
   "outputs": [
    {
     "name": "stdout",
     "output_type": "stream",
     "text": [
      "   customer_id cutomer_name customer_surname  customer_address_id  \\\n",
      "0          330        Scott          Shelley                  335   \n",
      "1          537      Clinton           Buford                  543   \n",
      "2          512        Cecil            Vines                  517   \n",
      "3          252       Mattie          Hoffman                  256   \n",
      "\n",
      "   customer2_id cutomer2_name customer2_surname  customer2_address_id  \n",
      "0           537       Clinton            Buford                   543  \n",
      "1           330         Scott           Shelley                   335  \n",
      "2           252        Mattie           Hoffman                   256  \n",
      "3           512         Cecil             Vines                   517  \n"
     ]
    }
   ],
   "source": [
    "# 2. Znajdź wszystkich klientów mieszkających w tym samym mieście.\n",
    "\n",
    "ex2 = pd.read_sql('SELECT cust.customer_id customer_id, \\\n",
    "cust.first_name cutomer_name, \\\n",
    "cust.last_name customer_surname, \\\n",
    "cust.address_id customer_address_id, \\\n",
    "cust2.customer_id customer2_id, \\\n",
    "cust2.first_name cutomer2_name, \\\n",
    "cust2.last_name customer2_surname, \\\n",
    "cust2.address_id customer2_address_id \\\n",
    "FROM customer cust \\\n",
    "INNER JOIN customer cust2 ON (SELECT address.city_id FROM address WHERE \\\n",
    "address_id=cust.address_id) = (SELECT address.city_id FROM address WHERE \\\n",
    "address_id=cust2.address_id) \\\n",
    "WHERE cust.customer_id != cust2.customer_id',con=connection)\n",
    "print(ex2)"
   ]
  },
  {
   "cell_type": "code",
   "execution_count": 4,
   "metadata": {},
   "outputs": [
    {
     "name": "stdout",
     "output_type": "stream",
     "text": [
      "    avg\n",
      "0  2.98\n"
     ]
    }
   ],
   "source": [
    "# 3. Oblicz średni koszt wypożyczenia wszystkich filmów.\n",
    "ex3 = pd.read_sql('SELECT AVG(rental_rate) FROM film',con=connection)\n",
    "print(ex3)"
   ]
  },
  {
   "cell_type": "code",
   "execution_count": 5,
   "metadata": {},
   "outputs": [
    {
     "name": "stdout",
     "output_type": "stream",
     "text": [
      "           name  count\n",
      "0        Action     64\n",
      "1     Animation     66\n",
      "2      Children     60\n",
      "3      Classics     57\n",
      "4        Comedy     58\n",
      "5   Documentary     68\n",
      "6         Drama     62\n",
      "7        Family     69\n",
      "8       Foreign     73\n",
      "9         Games     61\n",
      "10       Horror     56\n",
      "11        Music     51\n",
      "12          New     63\n",
      "13       Sci-Fi     61\n",
      "14       Sports     74\n",
      "15       Travel     57\n"
     ]
    }
   ],
   "source": [
    "# 4. Oblicz i wyświetl liczbę filmów we wszystkich kategoriach.\n",
    "ex4 = pd.read_sql(\"SELECT name, COUNT(name) FROM film \\\n",
    "INNER JOIN film_category ON film.film_id = film_category.film_id \\\n",
    "INNER JOIN category ON film_category.category_id = category.category_id \\\n",
    "GROUP BY name \\\n",
    "ORDER BY name\",con=connection)\n",
    "print(ex4)"
   ]
  },
  {
   "cell_type": "code",
   "execution_count": 6,
   "metadata": {},
   "outputs": [
    {
     "name": "stdout",
     "output_type": "stream",
     "text": [
      "                  country  count\n",
      "0             Afghanistan      1\n",
      "1                 Algeria      3\n",
      "2          American Samoa      1\n",
      "3                  Angola      2\n",
      "4                Anguilla      1\n",
      "..                    ...    ...\n",
      "103               Vietnam      6\n",
      "104  Virgin Islands, U.S.      1\n",
      "105                 Yemen      4\n",
      "106            Yugoslavia      2\n",
      "107                Zambia      1\n",
      "\n",
      "[108 rows x 2 columns]\n"
     ]
    }
   ],
   "source": [
    "# 5. Wyświetl liczbę wszystkich klientów pogrupowanych według kraju.\n",
    "ex5 = pd.read_sql(\"SELECT country, COUNT(country) FROM customer \\\n",
    "INNER JOIN address ON customer.address_id = address.address_id \\\n",
    "INNER JOIN city ON address.city_id = city.city_id \\\n",
    "INNER JOIN country ON city.country_id = country.country_id \\\n",
    "GROUP BY country \\\n",
    "ORDER BY country\",con=connection)\n",
    "print(ex5)"
   ]
  },
  {
   "cell_type": "code",
   "execution_count": 7,
   "metadata": {},
   "outputs": [
    {
     "name": "stdout",
     "output_type": "stream",
     "text": [
      "   store_id  manager_staff_id  address_id         last_update\n",
      "0         2                 2           2 2006-02-15 09:57:12\n"
     ]
    }
   ],
   "source": [
    "# 6. Wyświetl informacje o sklepie, który ma więcej niż 100 klientów i mniej niż 300 klientów.\n",
    "ex6 = pd.read_sql(\"SELECT s.store_id, s.manager_staff_id, s.address_id, s.last_update FROM store s \\\n",
    "INNER JOIN customer cust USING(store_id) \\\n",
    "GROUP BY s.store_id \\\n",
    "HAVING COUNT(cust.customer_id) > 100 \\\n",
    "AND COUNT(cust.customer_id) < 300 \\\n",
    "ORDER BY s.store_id\", con=connection)\n",
    "print(ex6)"
   ]
  },
  {
   "cell_type": "code",
   "execution_count": 8,
   "metadata": {},
   "outputs": [
    {
     "name": "stdout",
     "output_type": "stream",
     "text": [
      "     customer_id first_name  last_name\n",
      "0              1       Mary      Smith\n",
      "1              2   Patricia    Johnson\n",
      "2              3      Linda   Williams\n",
      "3              4    Barbara      Jones\n",
      "4              5  Elizabeth      Brown\n",
      "..           ...        ...        ...\n",
      "561          595   Terrence  Gunderson\n",
      "562          596    Enrique   Forsythe\n",
      "563          597    Freddie     Duggan\n",
      "564          598       Wade   Delvalle\n",
      "565          599     Austin    Cintron\n",
      "\n",
      "[566 rows x 3 columns]\n"
     ]
    }
   ],
   "source": [
    "# 7. Wybierz wszystkich klientów, którzy oglądali filmy ponad 200 godzin.\n",
    "ex7 = pd.read_sql(\"SELECT DISTINCT c.customer_id, c.first_name, c.last_name FROM customer c \\\n",
    "INNER JOIN rental r ON c.customer_id = r.customer_id \\\n",
    "WHERE r.return_date - r.rental_date > INTERVAL '200 hours' \\\n",
    "ORDER BY c.customer_id\", con=connection)\n",
    "print(ex7)"
   ]
  },
  {
   "cell_type": "code",
   "execution_count": 9,
   "metadata": {},
   "outputs": [
    {
     "name": "stdout",
     "output_type": "stream",
     "text": [
      "        avg\n",
      "0  4.200606\n"
     ]
    }
   ],
   "source": [
    "# 8. Oblicz średnią wartość wypożyczenia filmu.\n",
    "ex8 = pd.read_sql(\"SELECT AVG(amount) FROM payment\", con=connection)\n",
    "print(ex8)"
   ]
  },
  {
   "cell_type": "code",
   "execution_count": 10,
   "metadata": {},
   "outputs": [
    {
     "name": "stdout",
     "output_type": "stream",
     "text": [
      "           name         avg\n",
      "0        Action  111.609375\n",
      "1     Animation  111.015152\n",
      "2      Children  109.800000\n",
      "3      Classics  111.666667\n",
      "4        Comedy  115.827586\n",
      "5   Documentary  108.750000\n",
      "6         Drama  120.838710\n",
      "7        Family  114.782609\n",
      "8       Foreign  121.698630\n",
      "9         Games  127.836066\n",
      "10       Horror  112.482143\n",
      "11        Music  113.647059\n",
      "12          New  111.126984\n",
      "13       Sci-Fi  108.196721\n",
      "14       Sports  128.202703\n",
      "15       Travel  113.315789\n"
     ]
    }
   ],
   "source": [
    "# 9. Oblicz średnią wartość długości filmu we wszystkich kategoriach.\n",
    "ex9 = pd.read_sql(\"SELECT name, AVG(length) FROM film \\\n",
    "INNER JOIN film_category ON film.film_id = film_category.film_id \\\n",
    "INNER JOIN category ON film_category.category_id = category.category_id \\\n",
    "GROUP BY name \\\n",
    "ORDER BY name\",con=connection)\n",
    "print(ex9)"
   ]
  },
  {
   "cell_type": "code",
   "execution_count": 11,
   "metadata": {},
   "outputs": [
    {
     "name": "stdout",
     "output_type": "stream",
     "text": [
      "    category_id category_name  max_title_len                        title\n",
      "0             1        Action             23      Entrapment Satisfaction\n",
      "1             2     Animation             22       Telemark Heartbreakers\n",
      "2             3      Children             20         Heartbreakers Bright\n",
      "3             3      Children             20         Microcosmos Paradise\n",
      "4             3      Children             20         Sweethearts Suspects\n",
      "5             4      Classics             23      Extraordinary Conquerer\n",
      "6             5        Comedy             23      Trainspotting Strangers\n",
      "7             6   Documentary             22       Intolerable Intentions\n",
      "8             6   Documentary             22       Deliverance Mulholland\n",
      "9             7         Drama             22       Goldfinger Sensibility\n",
      "10            8        Family             22       Resurrection Silverado\n",
      "11            9       Foreign             20         Reservoir Adaptation\n",
      "12            9       Foreign             20         Impossible Prejudice\n",
      "13            9       Foreign             20         Ballroom Mockingbird\n",
      "14           10         Games             21        Creatures Shakespeare\n",
      "15           10         Games             21        Bulworth Commandments\n",
      "16           11        Horror             27  Arachnophobia Rollercoaster\n",
      "17           12         Music             22       Confidential Interview\n",
      "18           13           New             21        Flamingos Connecticut\n",
      "19           14        Sci-Fi             20         Cincinatti Whisperer\n",
      "20           14        Sci-Fi             20         Silverado Goldfinger\n",
      "21           14        Sci-Fi             20         Unforgiven Zoolander\n",
      "22           14        Sci-Fi             20         Wonderland Christmas\n",
      "23           14        Sci-Fi             20         Barbarella Streetcar\n",
      "24           15        Sports             25    Satisfaction Confidential\n",
      "25           16        Travel             23      Desperate Trainspotting\n"
     ]
    }
   ],
   "source": [
    "# 10. Znajdź najdłuższe tytuły filmowe we wszystkich kategoriach.\n",
    "ex10 = pd.read_sql(\"SELECT ins.category_id, ins.category_name, ins.max_title_len max_title_len, film.title FROM \\\n",
    "(SELECT c.category_id category_id, c.name category_name, MAX(LENGTH(f.title)) max_title_len FROM category c \\\n",
    "INNER JOIN film_category f_c USING(category_id) \\\n",
    "INNER JOIN film f USING(film_id) \\\n",
    "GROUP BY c.category_id \\\n",
    "ORDER BY c.category_id) ins \\\n",
    "INNER JOIN film ON (ins.max_title_len = LENGTH(film.title) AND ins.category_id = (SELECT f2.category_id\\\n",
    "                                                                                FROM film_category f2 \\\n",
    "                                                                                WHERE f2.film_id = film.film_id)) \\\n",
    "ORDER BY ins.category_id\", con=connection)\n",
    "print(ex10)\n"
   ]
  },
  {
   "cell_type": "code",
   "execution_count": 12,
   "metadata": {},
   "outputs": [
    {
     "name": "stdout",
     "output_type": "stream",
     "text": [
      "    category_id category_name  max_film_len               title\n",
      "0             1        Action           185      Darn Forrester\n",
      "1             1        Action           185        Worst Banger\n",
      "2             2     Animation           185        Pond Seattle\n",
      "3             2     Animation           185         Gangs Pride\n",
      "4             3      Children           178         Fury Murder\n",
      "5             3      Children           178      Wrong Behavior\n",
      "6             4      Classics           184   Conspiracy Spirit\n",
      "7             5        Comedy           185      Control Anthem\n",
      "8             6   Documentary           183      Young Language\n",
      "9             6   Documentary           183           Wife Turn\n",
      "10            7         Drama           181       Jacket Frisco\n",
      "11            8        Family           184      King Evolution\n",
      "12            9       Foreign           184      Sorority Queen\n",
      "13            9       Foreign           184    Crystal Breaking\n",
      "14           10         Games           185       Chicago North\n",
      "15           11        Horror           181    Analyze Hoosiers\n",
      "16           11        Horror           181       Love Suicides\n",
      "17           12         Music           185           Home Pity\n",
      "18           13           New           183      Frontier Cabin\n",
      "19           14        Sci-Fi           185  Soldiers Evolution\n",
      "20           15        Sports           184     Smoochy Control\n",
      "21           16        Travel           185   Sweet Brotherhood\n",
      "22           16        Travel           185       Muscle Bright\n"
     ]
    }
   ],
   "source": [
    "# 11. Znajdź najdłuższy film we wszystkich kategoriach. Porównaj wynik z pkt 10.\n",
    "ex11 =  pd.read_sql(\"SELECT ins.category_id, ins.category_name, ins.max_film_len max_film_len, film.title FROM \\\n",
    "(SELECT c.category_id category_id, c.name category_name, MAX(f.length) max_film_len FROM category c \\\n",
    "INNER JOIN film_category f_c USING(category_id) \\\n",
    "INNER JOIN film f USING(film_id) \\\n",
    "GROUP BY c.category_id \\\n",
    "ORDER BY c.category_id) ins \\\n",
    "INNER JOIN film ON (ins.max_film_len = film.length AND ins.category_id = (SELECT f2.category_id\\\n",
    "                                                                                FROM film_category f2 \\\n",
    "                                                                                WHERE f2.film_id = film.film_id)) \\\n",
    "ORDER BY ins.category_id\", con=connection)\n",
    "print(ex11)"
   ]
  },
  {
   "cell_type": "markdown",
   "metadata": {},
   "source": [
    "### Porównanie z pkt. 10: Wynik zadania 11 nie ma nic wspólnego z wynikiem zadania 10, ponieważ obydwa zadania zajmują się przeszukiwaniem bazy względem innego kryterium (długość tytułu filmu, długość trwania filmu)."
   ]
  },
  {
   "cell_type": "markdown",
   "metadata": {},
   "source": [
    "## Zadanie implementacyjne\n",
    "Zaimplementuj wszystkie funkcje w pliku main.py zgodnie z opisem a następnie przetestuj je w notatniku."
   ]
  },
  {
   "cell_type": "code",
   "execution_count": 13,
   "metadata": {},
   "outputs": [
    {
     "name": "stdout",
     "output_type": "stream",
     "text": [
      "...................................                                      [100%]\n",
      "============================== warnings summary ===============================\n",
      "anaconda3\\lib\\site-packages\\pyreadline\\py3k_compat.py:8\n",
      "  C:\\Users\\Dell\\anaconda3\\lib\\site-packages\\pyreadline\\py3k_compat.py:8: DeprecationWarning: Using or importing the ABCs from 'collections' instead of from 'collections.abc' is deprecated since Python 3.3, and in 3.9 it will stop working\n",
      "    return isinstance(x, collections.Callable)\n",
      "\n",
      "-- Docs: https://docs.pytest.org/en/stable/warnings.html\n",
      "35 passed, 1 warning in 2.62s\n"
     ]
    }
   ],
   "source": [
    "import main\n",
    "import test_main\n",
    "\n",
    "!pytest -q test_main.py"
   ]
  },
  {
   "cell_type": "code",
   "execution_count": null,
   "metadata": {},
   "outputs": [],
   "source": []
  }
 ],
 "metadata": {
  "kernelspec": {
   "display_name": "Python 3",
   "language": "python",
   "name": "python3"
  },
  "language_info": {
   "codemirror_mode": {
    "name": "ipython",
    "version": 3
   },
   "file_extension": ".py",
   "mimetype": "text/x-python",
   "name": "python",
   "nbconvert_exporter": "python",
   "pygments_lexer": "ipython3",
   "version": "3.8.5"
  }
 },
 "nbformat": 4,
 "nbformat_minor": 2
}
